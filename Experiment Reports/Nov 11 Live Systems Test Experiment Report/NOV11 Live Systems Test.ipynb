{
 "cells": [
  {
   "cell_type": "markdown",
   "metadata": {},
   "source": [
    "#NOV11 Live Systems Test\n",
    "\n",
    "###Full pumpdown and full systems usage including needle valve + controller, solenoid + controller, TMP + controller, diaphram gauge, and pirani gauge. We are checking if all control works and for leaks in vacuum piping. "
   ]
  },
  {
   "cell_type": "markdown",
   "metadata": {},
   "source": [
    "##Purpose:\n",
    "Test control equipment for solenoid, needle valve, and tmp. \n",
    "Test logging software. \n",
    "Check for leaks in vacuum. \n",
    "\n",
    "##Setup:\n",
    "\n",
    "1. Gather all parts: \n",
    "\t- Cart\n",
    "\t- Pirani gauge display \n",
    "\t- Pirani gauge display transformer\n",
    "\t- Multimeter for back of Pirani gauge voltage\n",
    "\t- TMP (turbo molecular pump) transformer\n",
    "\t- Rough pump\n",
    "\t- KF flange\n",
    "2. Connect rough pump to turbo pump with KF flange\n",
    "3. Plug in the Pirani gauge display and transformer \n",
    "\t- Plug multimeter into the back of the Pirani gauge display (make sure to get positive and negative right)\n",
    "4. Plug in rough pump\n",
    "5. **Ground the cart**. \n",
    "6. Plug in TMP transformer\n",
    "7. Plug in the TMP controller to its two ethernet ports and a computer running the program. \n",
    "8. Restart the program between tests.\n",
    "\n",
    "\n",
    "##What we wIll do:\n",
    "Pump down, test controllers\n",
    "\n",
    "What we will read out:\n",
    "1. The Pirani gauge reading (shortened to PG) and the Pirani gauge voltage meter.\n",
    "2. Diaphram gauge (adc) \n",
    "3. Geiger counter\n",
    "4. Log from webserver. "
   ]
  },
  {
   "cell_type": "markdown",
   "metadata": {},
   "source": [
    "##Notes and Observations:\n",
    "run 1:\n",
    "- TMP started at .410 PG\n",
    "- Server reported pump status off after turning it on. 0 data recieved from TMP\n",
    "- TMP frequency increase at .130 PG \n",
    "- Got to .0 PG \n",
    "- Needle valve controller worked for first turn, then second turn too two tries. \n",
    "- Solenoid contrller worked \n",
    "- Air passed the solenoid valve - air between ball valve and solenoid? (pressure increased after solenoid was opened, then went back to 0) \n",
    "- After second solenoid test, pressure did not change. \n",
    "\n",
    "run 2:\n",
    "- We did a completely new second run, all systems reset, to figure out TMP data reporting issues and to verify needle valve position settings. \n",
    "- This run actually had a log file created. \n",
    "\n",
    "- TMP on at .420 PG  \n",
    "- Got to .00 PG\n",
    "- Needle valve was set to 50, then back to 0, no pressure change, good. \n",
    "- solenoid was opened and closed with no pressure change, good.\n",
    "- We played with valves a little bit: \n",
    "    - after opening and closing ball gauge and opening needle valve to 10, solenoid opening changed pressure ~+0.050\n",
    "    - ball valve closed, solenoid closed, needle valve probably closed, opening ball valve \n",
    "    - conclusions: 20% servo change bled air? \n",
    "- we eventually lost control of the needle valve \n",
    "\n",
    "run 3: \n",
    "- solenoid open, air was bled in by changing needle valve 5% \n",
    "- nothing bad happened!!\n"
   ]
  },
  {
   "cell_type": "markdown",
   "metadata": {},
   "source": [
    "##Conclusions: \n",
    "We have moderate control of the systems, with most faults landing in the logging software. The solenoid controller was rather consistent. The TMP readings were not functioning consistently thoughtout all tests. It would work for part of a test but eventually fail. The needle valve controller was also pretty consistent, and we got it calibrated well. "
   ]
  }
 ],
 "metadata": {
  "kernelspec": {
   "display_name": "Python 3",
   "language": "python",
   "name": "python3"
  },
  "language_info": {
   "codemirror_mode": {
    "name": "ipython",
    "version": 3
   },
   "file_extension": ".py",
   "mimetype": "text/x-python",
   "name": "python",
   "nbconvert_exporter": "python",
   "pygments_lexer": "ipython3",
   "version": "3.7.3"
  }
 },
 "nbformat": 4,
 "nbformat_minor": 2
}
