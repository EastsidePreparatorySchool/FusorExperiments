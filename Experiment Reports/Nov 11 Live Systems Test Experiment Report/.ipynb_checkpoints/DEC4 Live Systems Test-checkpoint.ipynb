{
 "cells": [
  {
   "cell_type": "markdown",
   "metadata": {},
   "source": [
    "#DEC4Live Systems Test\n",
    "\n",
    "###Full pumpdown and full systems usage including needle valve + controller, solenoid + controller, TMP + controller, diaphram gauge, and pirani gauge. We are checking if all control works and for leaks in vacuum piping. "
   ]
  },
  {
   "cell_type": "markdown",
   "metadata": {},
   "source": [
    "##Purpose:\n",
    "Test control equipment for solenoid, needle valve, and tmp. \n",
    "Test logging software. \n",
    "Check for leaks in vacuum. \n",
    "\n",
    "##Setup:\n",
    "\n",
    "1. Gather all parts: \n",
    "\t- Cart\n",
    "\t- Pirani gauge display \n",
    "\t- Pirani gauge display transformer\n",
    "\t- Multimeter for back of Pirani gauge voltage\n",
    "\t- TMP (turbo molecular pump) transformer\n",
    "\t- Rough pump\n",
    "\t- KF flange\n",
    "2. Connect rough pump to turbo pump with KF flange\n",
    "3. Plug in the Pirani gauge display and transformer \n",
    "\t- Plug multimeter into the back of the Pirani gauge display (make sure to get positive and negative right)\n",
    "4. Plug in rough pump\n",
    "5. **Ground the cart**. \n",
    "6. Plug in TMP transformer\n",
    "7. Plug in the TMP controller to its two ethernet ports and a computer running the program. \n",
    "8. Restart the program between tests.\n",
    "\n",
    "\n",
    "##What we wIll do:\n",
    "Pump down, test controllers\n",
    "\n",
    "What we will read out:\n",
    "1. The Pirani gauge reading (shortened to PG) and the Pirani gauge voltage meter.\n",
    "2. Diaphram gauge (adc) \n",
    "3. Geiger counter\n",
    "4. Log from webserver. "
   ]
  },
  {
   "cell_type": "markdown",
   "metadata": {},
   "source": [
    "##Notes and Observations:\n",
    "\n"
   ]
  },
  {
   "cell_type": "markdown",
   "metadata": {},
   "source": [
    "##Conclusions: \n"
   ]
  }
 ],
 "metadata": {
  "kernelspec": {
   "display_name": "Python 3",
   "language": "python",
   "name": "python3"
  },
  "language_info": {
   "codemirror_mode": {
    "name": "ipython",
    "version": 3
   },
   "file_extension": ".py",
   "mimetype": "text/x-python",
   "name": "python",
   "nbconvert_exporter": "python",
   "pygments_lexer": "ipython3",
   "version": "3.7.3"
  }
 },
 "nbformat": 4,
 "nbformat_minor": 2
}
