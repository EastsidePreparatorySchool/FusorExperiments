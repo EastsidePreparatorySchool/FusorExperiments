{
 "cells": [
  {
   "cell_type": "markdown",
   "metadata": {},
   "source": [
    "#OCT 22 TMP TEST 1\n",
    "###NEEDLE AND BALL VALVES INCLUDED"
   ]
  },
  {
   "cell_type": "markdown",
   "metadata": {},
   "source": [
    "#Purpose:\n",
    "Gather more data on the pirani gauge display/voltage meter relationship. \n",
    "Determine whether we can control the needle valve opening, and document this.\n",
    "\n",
    "#Setup:\n",
    "\n",
    "1. Gather all parts: \n",
    "\t- Cart\n",
    "\t- Pirani gauge display \n",
    "\t- Pirani gauge display transformer\n",
    "\t- Multimeter for back of Pirani gauge voltage\n",
    "\t- TMP (turbo molecular pump) transformer\n",
    "\t- Rough pump\n",
    "\t- KF flange\n",
    "2. Connect rough pump to turbo pump with KF flange\n",
    "3. Plug in the Pirani gauge display and transformer \n",
    "\t- Plug multimeter into the back of the Pirani gauge display (make sure to get positive and negative right)\n",
    "4. Plug in rough pump\n",
    "5. Ground the cart\n",
    "6. Plug in TMP transformer\n",
    "7. Plug in the TMP controller to its two ethernet ports and a computer running the program. \n",
    "\n",
    "\n",
    "#What we wIll do:\n",
    "Pump down, with the previous test's results in mind. Last time, the TMP turned off at .1 PG for an unknown reason. This test has the deuterium injection assembly, including the needle valve and ball valve. \n",
    "\n",
    "What we will read out:\n",
    "The Pirani gauge reading (shortened to PG) and the multimeter reading. These are taken via video and significant points are noted below in notes and observations.  "
   ]
  },
  {
   "cell_type": "markdown",
   "metadata": {},
   "source": [
    "#Notes and Observations: \n",
    "\n",
    "TMP was turned on at .5 PG\n",
    "- it quickly dropped to ~.350 PG after activation\n",
    "- at .220 the TMP made a higher pitched noise\n",
    "    - It then quickly dropped to below .1 PG\n",
    "- At ~.9 the TMP turned off\n",
    "- We tried to turn the TMP back on at .3 PG\n",
    "    - quickly decided to press off button \n",
    "- Rough pump was turned off at .420. "
   ]
  },
  {
   "cell_type": "markdown",
   "metadata": {},
   "source": [
    "## Results:\n",
    "\n",
    "Failure "
   ]
  }
 ],
 "metadata": {
  "kernelspec": {
   "display_name": "Python 3",
   "language": "python",
   "name": "python3"
  },
  "language_info": {
   "codemirror_mode": {
    "name": "ipython",
    "version": 3
   },
   "file_extension": ".py",
   "mimetype": "text/x-python",
   "name": "python",
   "nbconvert_exporter": "python",
   "pygments_lexer": "ipython3",
   "version": "3.7.3"
  }
 },
 "nbformat": 4,
 "nbformat_minor": 2
}
