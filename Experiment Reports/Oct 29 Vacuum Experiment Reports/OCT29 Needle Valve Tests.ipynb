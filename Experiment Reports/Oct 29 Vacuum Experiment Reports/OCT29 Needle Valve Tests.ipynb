{
 "cells": [
  {
   "cell_type": "markdown",
   "metadata": {},
   "source": [
    "#OCT 29 Needle Valve Tests\n",
    "\n",
    "###"
   ]
  },
  {
   "cell_type": "markdown",
   "metadata": {},
   "source": [
    "##Purpose:\n",
    "Gather more data on the pirani gauge display/voltage meter relationship. \n",
    "Determine whether we can control the needle valve opening, and document this.\n",
    "\n",
    "##Setup:\n",
    "\n",
    "1. Gather all parts: \n",
    "\t- Cart\n",
    "\t- Pirani gauge display \n",
    "\t- Pirani gauge display transformer\n",
    "\t- Multimeter for back of Pirani gauge voltage\n",
    "\t- TMP (turbo molecular pump) transformer\n",
    "\t- Rough pump\n",
    "\t- KF flange\n",
    "2. Connect rough pump to turbo pump with KF flange\n",
    "3. Plug in the Pirani gauge display and transformer \n",
    "\t- Plug multimeter into the back of the Pirani gauge display (make sure to get positive and negative right)\n",
    "4. Plug in rough pump\n",
    "5. **Ground the cart**. \n",
    "6. Plug in TMP transformer\n",
    "7. Plug in the TMP controller to its two ethernet ports and a computer running the program. \n",
    "8. Restart the program between tests.\n",
    "\n",
    "\n",
    "##What we wIll do:\n",
    "Pump down. Once pumped down, we will try opening the needle valve to bleed in air. The ball valve is connected to the tube. \n",
    "\n",
    "What we will read out:\n",
    "The Pirani gauge reading (shortened to PG) and the pirani gauge multi meter. \n",
    "\n",
    "All readings are taken via video and significant points are noted below in notes and observations.\n"
   ]
  },
  {
   "cell_type": "markdown",
   "metadata": {},
   "source": [
    "##Notes and Observations: "
   ]
  }
 ],
 "metadata": {
  "kernelspec": {
   "display_name": "Python 3",
   "language": "python",
   "name": "python3"
  },
  "language_info": {
   "codemirror_mode": {
    "name": "ipython",
    "version": 3
   },
   "file_extension": ".py",
   "mimetype": "text/x-python",
   "name": "python",
   "nbconvert_exporter": "python",
   "pygments_lexer": "ipython3",
   "version": "3.7.3"
  }
 },
 "nbformat": 4,
 "nbformat_minor": 2
}
