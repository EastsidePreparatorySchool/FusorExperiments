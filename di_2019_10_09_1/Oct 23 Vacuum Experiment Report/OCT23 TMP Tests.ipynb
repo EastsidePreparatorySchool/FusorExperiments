{
 "cells": [
  {
   "cell_type": "markdown",
   "metadata": {},
   "source": [
    "#OCT 23 TMP TESTS\n",
    "###PLUGGED CHAMBER, GROUNDED, HOT GLUE CAP, GETTING NEW DATA POINTS"
   ]
  },
  {
   "cell_type": "markdown",
   "metadata": {},
   "source": [
    "##Purpose:\n",
    "Gather more data on the pirani gauge display/voltage meter relationship. \n",
    "Determine whether we can control the needle valve opening, and document this.\n",
    "\n",
    "##Setup:\n",
    "\n",
    "1. Gather all parts: \n",
    "\t- Cart\n",
    "\t- Pirani gauge display \n",
    "\t- Pirani gauge display transformer\n",
    "\t- Multimeter for back of Pirani gauge voltage\n",
    "\t- TMP (turbo molecular pump) transformer\n",
    "\t- Rough pump\n",
    "\t- KF flange\n",
    "2. Connect rough pump to turbo pump with KF flange\n",
    "3. Plug in the Pirani gauge display and transformer \n",
    "\t- Plug multimeter into the back of the Pirani gauge display (make sure to get positive and negative right)\n",
    "4. Plug in rough pump\n",
    "5. **Ground the cart**. \n",
    "6. Plug in TMP transformer\n",
    "7. Plug in the TMP controller to its two ethernet ports and a computer running the program. \n",
    "8. Restart the program between tests.\n",
    "\n",
    "\n",
    "##What we wIll do:\n",
    "Pump down. This test does not have the deuterium injection assembly, since we plugged the hole where the needle valve usually is. On top of the plug, we caked on hot glue to help the seal. We will do multiple runs. \n",
    "\n",
    "What we will read out:\n",
    "The Pirani gauge reading (shortened to PG) and the clamp meter reading (shortened to CM). The CM measures power draw to the TMP power supply. \n",
    "We have 3 labeled multimeters, measuring the TMP frequency (10V), TMP amp draw (10V), and power to TMP power supply (24V). The TMP frequency was set up incorrectly and did not show data. \n",
    "\n",
    "All readings are taken via video and significant points are noted below in notes and observations.\n"
   ]
  },
  {
   "cell_type": "markdown",
   "metadata": {},
   "source": [
    "##Notes and Observations: \n",
    "\n",
    "-The 10 V Freq meter was set up incorrectly, so the videos do not show any data. \n",
    "\n",
    "First Run:\n",
    "- TMP on at .5 PG\n",
    "- Got to 0 PG\n",
    "- Video is \"OCT 23 TMP Test 1\". \n",
    "\n",
    "\n",
    "Second Run:\n",
    "- TMP was turned on at .48 PG\n",
    "- TMP did not turn on. There was a server issue caused by user error. \n",
    "- Video is \"OCT 23 TMP Test 2\". \n",
    "\n",
    "Third Run: \n",
    "- TMP on at .5 PG\n",
    "- Got to 0 PG \n",
    "- Video is \"OCT 23 TMP Test 3\". \n",
    "\n",
    "Fourth Run: \n",
    "- TMP on at .51\n",
    "- Got to 0 PG\n",
    "- Video is \"OCT 23 TMP Test 4\". "
   ]
  },
  {
   "cell_type": "markdown",
   "metadata": {},
   "source": [
    "##Results:\n",
    "- Got to 0 PG on the first run. \n",
    "\n",
    "##Plans for future:\n",
    "- We should try a full pumpdown with full Pirani gauge readings, such as a multimeter like in previous tests. We didn't do this because we ran out of multimeters. "
   ]
  }
 ],
 "metadata": {
  "kernelspec": {
   "display_name": "Python 3",
   "language": "python",
   "name": "python3"
  },
  "language_info": {
   "codemirror_mode": {
    "name": "ipython",
    "version": 3
   },
   "file_extension": ".py",
   "mimetype": "text/x-python",
   "name": "python",
   "nbconvert_exporter": "python",
   "pygments_lexer": "ipython3",
   "version": "3.7.3"
  }
 },
 "nbformat": 4,
 "nbformat_minor": 2
}
