{
 "cells": [
  {
   "cell_type": "markdown",
   "metadata": {},
   "source": [
    "#DEC11 Live Systems Test\n",
    "\n",
    "###**Full pumpdown with full systems usage and High Voltage** to make Xrays!"
   ]
  },
  {
   "cell_type": "markdown",
   "metadata": {},
   "source": [
    "##Purpose:\n",
    "Test control equipment for solenoid, needle valve, and tmp. \n",
    "Test logging software. \n",
    "Check for leaks in vacuum. \n",
    "\n",
    "##Setup:\n",
    "\n",
    "1. Gather all parts - ignore step for working in enclosure: \n",
    "\t- Cart\n",
    "\t- Pirani gauge display \n",
    "\t- Pirani gauge display transformer\n",
    "\t- Multimeter for back of Pirani gauge voltage\n",
    "\t- TMP (turbo molecular pump) transformer\n",
    "\t- Rough pump\n",
    "\t- KF flange\n",
    "    - Control Arduinos\n",
    "    - Cameras \n",
    "2. Connect rough pump to turbo pump with KF flange\n",
    "3. Plug in the Pirani gauge display and transformer \n",
    "\t- Plug multimeter into the back of the Pirani gauge display (make sure to get positive and negative right)\n",
    "4. Plug in rough pump.\n",
    "5. **Ground the cart**. \n",
    "6. Plug in TMP transformer.\n",
    "7. Setup computer by plugging it into USB hub for arduino controllers\n",
    "8. Startup webserver and connect with other pc.\n",
    "9. Make sure that all arduino control is functional and connected to webserver. \n",
    "    - Gas (solenoid) \n",
    "    - Needle valve servo\n",
    "    - Geiger counter\n",
    "    - HV  \n",
    "    - TMP \n",
    "    - Pirani gauge \n",
    "    - Diaphragm gauge  \n",
    "    - cameras\n",
    "    - HV bluetooth \n",
    "    - any others\n",
    "10. Wait for cameras to show up on webserver.\n",
    "\n",
    "Pumpdown Procedue: \n",
    "\n",
    "1. Arm red button if TMP is to be controlled with it. HV is often setup on the button instead. \n",
    "2. Start logging with computer. \n",
    "3. Start rough pump. \n",
    "4. Wait for pirani gauge to drop below .500\n",
    "5. Turn on the TMP.\n",
    "6. Wait for the pirani gauge to drop to 0. \n",
    "7. Run the test. \n",
    "\n",
    "To turn off:\n",
    "\n",
    "1. Turn off TMP\n",
    "2. Wait for pirani gauge to go above .350, indicating the TMP has stopped spinning\n",
    "3. Stop rough pump\n",
    "4. Push red button\n",
    "\n",
    "High Voltage Procedure: \n",
    "\n",
    "##What we wIll do:\n",
    "Pump down, run HV, make x-rays. \n",
    "\n",
    "What we will read out:\n",
    "1. Log from webserver. \n",
    "2. Read from HV: \n",
    "    - variac voltage\n",
    "    - cw voltage\n",
    "    - nst voltage \n",
    "    - current? (Dr. Whitmer's arduino?)"
   ]
  },
  {
   "cell_type": "markdown",
   "metadata": {},
   "source": [
    "##Notes and Observations:\n",
    "\n",
    "TMP on at .470 PG. \n",
    "\n",
    "Pressure got to 45 voltage meter then began going back up. Seems to fluctuate between 45 and 85. \n",
    "\n",
    "Variac was set to 10, then 20.\n",
    "CW avg changed from -10 to -15 when this was done\n",
    "\n",
    "Imput voltage measurement was messed up. \n",
    "\n",
    "variac imput voltage was set to 30 and the rms went to 15. \n",
    "\n",
    "Server crashed when 40 was input to the variac. \n",
    "Variac was turned with kill button. \n",
    "\n",
    "Arduinos died? TMP spun down. "
   ]
  },
  {
   "cell_type": "markdown",
   "metadata": {},
   "source": [
    "##Conclusions: \n",
    "\n",
    "TMP disconnected and took the server with it. \n",
    "\n",
    "There are issues with the voltage reading, but it turned on. We think we got 12 kilovolts. \n",
    "    Seems all the boards were switched up, according to Gavin. \n",
    "\n",
    "Did the TMP die because we waited too long or because the variac imput was set? \n",
    "\n",
    "We think the TMP failed first. \n",
    "\n",
    "Reason unconcluded. "
   ]
  }
 ],
 "metadata": {
  "kernelspec": {
   "display_name": "Python 3",
   "language": "python",
   "name": "python3"
  },
  "language_info": {
   "codemirror_mode": {
    "name": "ipython",
    "version": 3
   },
   "file_extension": ".py",
   "mimetype": "text/x-python",
   "name": "python",
   "nbconvert_exporter": "python",
   "pygments_lexer": "ipython3",
   "version": "3.7.3"
  }
 },
 "nbformat": 4,
 "nbformat_minor": 2
}
