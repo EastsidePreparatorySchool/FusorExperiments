{
 "cells": [
  {
   "cell_type": "markdown",
   "metadata": {},
   "source": [
    "# OCT 16 TMP TEST 1\n",
    "###NEEDLE AND BALL VALVES INCLUDED"
   ]
  },
  {
   "cell_type": "markdown",
   "metadata": {},
   "source": [
    "#Purpose:\n",
    "Gather more data on the pirani gauge display/voltage meter relationship. \n",
    "Determine whether we can control the needle valve opening, and document this.\n",
    "\n",
    "#Setup:\n",
    "\n",
    "1. Gather all parts: \n",
    "\t- Cart\n",
    "\t- Pirani gauge display \n",
    "\t- Pirani gauge display transformer\n",
    "\t- Multimeter for back of Pirani gauge voltage\n",
    "\t- TMP (turbo molecular pump) transformer\n",
    "\t- Rough pump\n",
    "\t- KF flange\n",
    "2. Connect rough pump to turbo pump with KF flange\n",
    "3. Plug in the Pirani gauge display and transformer \n",
    "\t- Plug multimeter into the back of the Pirani gauge display (make sure to get positive and negative right)\n",
    "4. Plug in rough pump\n",
    "5. Ground the cart\n",
    "6. Plug in TMP transformer\n",
    "7. Plug in the TMP controller to its two ethernet ports and a computer running the program. \n",
    "\n",
    "\n",
    "#What we wIll do:\n",
    "Pump down.\n",
    "Once we're as pumped down as we want, we will start to open the needle valve. \n",
    "\n",
    "What we will read out:\n",
    "Look at the Pirani gauge reading (shortened to PG) and the volt meter reading. These are taken via video. \n",
    "\n",
    "#Notes and Observations: \n",
    "- TMP was turned on at .560 PG\n",
    "- At PG .100, the TMP turned off (was audible) \n",
    "    - When this happened, the motherboard red warning light blinked 9 times repeating "
   ]
  },
  {
   "cell_type": "markdown",
   "metadata": {},
   "source": [
    "#Results: "
   ]
  }
 ],
 "metadata": {
  "kernelspec": {
   "display_name": "Python 3",
   "language": "python",
   "name": "python3"
  },
  "language_info": {
   "codemirror_mode": {
    "name": "ipython",
    "version": 3
   },
   "file_extension": ".py",
   "mimetype": "text/x-python",
   "name": "python",
   "nbconvert_exporter": "python",
   "pygments_lexer": "ipython3",
   "version": "3.7.3"
  }
 },
 "nbformat": 4,
 "nbformat_minor": 2
}
