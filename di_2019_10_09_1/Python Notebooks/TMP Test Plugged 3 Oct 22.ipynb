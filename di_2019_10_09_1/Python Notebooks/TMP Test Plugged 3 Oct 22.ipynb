{
 "cells": [
  {
   "cell_type": "markdown",
   "metadata": {},
   "source": [
    "#OCT 22 TMP TEST 3\n",
    "###PLUGGED CHAMBER, UNGROUNDED, HOT GLUE CAP, ROUGH PUMP FOR 15 MINUTES"
   ]
  },
  {
   "cell_type": "markdown",
   "metadata": {},
   "source": [
    "##Purpose:\n",
    "Gather more data on the pirani gauge display/voltage meter relationship. \n",
    "Determine whether we can control the needle valve opening, and document this.\n",
    "\n",
    "##Setup:\n",
    "\n",
    "1. Gather all parts: \n",
    "\t- Cart\n",
    "\t- Pirani gauge display \n",
    "\t- Pirani gauge display transformer\n",
    "\t- Multimeter for back of Pirani gauge voltage\n",
    "\t- TMP (turbo molecular pump) transformer\n",
    "\t- Rough pump\n",
    "\t- KF flange\n",
    "2. Connect rough pump to turbo pump with KF flange\n",
    "3. Plug in the Pirani gauge display and transformer \n",
    "\t- Plug multimeter into the back of the Pirani gauge display (make sure to get positive and negative right)\n",
    "4. Plug in rough pump\n",
    "5. Ground the cart (or don't, but be sure to consider this). \n",
    "6. Plug in TMP transformer\n",
    "7. Plug in the TMP controller to its two ethernet ports and a computer running the program. \n",
    "8. Restart the program between tests.\n",
    "\n",
    "\n",
    "##What we wIll do:\n",
    "Pump down. This test does not have the deuterium injection assembly, the we plugged the hole where is usually is. On top of the plug, we caked on hot glue to help the seal. The cart was not grounded for this run. The TMP will be turned on after running the rough pump for 15 minutes. This is much longer than it is normally run. \n",
    "\n",
    "What we will read out:\n",
    "The Pirani gauge reading (shortened to PG), the multimeter (connected to the pirani guage display, writen as V) reading, and the clamp meter reading (shortened to CM). The CM measures power draw to the TMP power supply. \n",
    "All readings are taken via video and significant points are noted below in notes and observations.\n"
   ]
  },
  {
   "cell_type": "markdown",
   "metadata": {},
   "source": [
    "##Notes and Observations:\n",
    "\n",
    "We turned the TMP on at .360 PG\n",
    "    - At .08 PG the TMP made the usual acceleration noises\n",
    "Got to 0.018 PG before slowing/turning off\n",
    "Got to .18 PG and we turned it off manually, then turned it back on\n",
    "\n",
    "We got to 0 PG by doing a full TMP pumpdown, letting it turn off, then restarting the controller and repeating the process.\n",
    "    At this point it we got to 4.25 V. "
   ]
  },
  {
   "cell_type": "markdown",
   "metadata": {},
   "source": [
    "##Results:\n",
    "\n",
    "see notes"
   ]
  }
 ],
 "metadata": {
  "kernelspec": {
   "display_name": "Python 3",
   "language": "python",
   "name": "python3"
  },
  "language_info": {
   "codemirror_mode": {
    "name": "ipython",
    "version": 3
   },
   "file_extension": ".py",
   "mimetype": "text/x-python",
   "name": "python",
   "nbconvert_exporter": "python",
   "pygments_lexer": "ipython3",
   "version": "3.7.3"
  }
 },
 "nbformat": 4,
 "nbformat_minor": 2
}
