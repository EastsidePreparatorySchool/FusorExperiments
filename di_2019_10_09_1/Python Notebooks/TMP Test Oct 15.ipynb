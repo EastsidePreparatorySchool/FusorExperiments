{
 "cells": [
  {
   "cell_type": "markdown",
   "metadata": {},
   "source": [
    "#Purpose:\n",
    "To check that the Pirani gauge is functional.\n",
    "\n",
    "#Setup:\n",
    "1) Gather all parts: \n",
    "\ta. Cart\n",
    "\tb. Pirani gauge display \n",
    "\tc. Pirani gauge display transformer\n",
    "\td. Multimeter for back of Pirani gauge voltage\n",
    "\te. TMP (turbo molecular pump) transformer\n",
    "\tf. Rough pump\n",
    "\tg. KF flange\n",
    "2) Connect rough pump to turbo pump with KF flange\n",
    "3) Plug in the Pirani gauge display and transformer \n",
    "\ta. Plug multimeter into the back of the Pirani gauge display (make sure to get positive and negative right)\n",
    "4) Plug in rough pump\n",
    "5) Ground the cart\n",
    "6) Plug in TMP transformer\n",
    "7) Plug in the TMP controller to its two ethernet ports and a computer running the program. \n",
    "\n",
    "\n",
    "#What we will do:\n",
    "Pump down.\n",
    "We pumped down twice to get a video of both guages. \n",
    "\n",
    "What we will read out:\n",
    "Look at the Pirani gauge reading and the volt meter reading. This are taken via video.\n",
    "We will also be listening for the TMP's running noise.\n",
    "\n",
    "#Notes/Observations for RUN ONE:\n",
    "- Before pumpdown, at room pressure, the volt meter read about 13v. \n",
    "- After starting pumpdown, guage went down from 999 to 9 with the decimal in the rightmost position. \n",
    "- Once it reached 1, the scale switched to where the decimal place was in the leftmost position, so it went to .980. \n",
    "- It then continued to go down. At .570, the volt meter read 5.81v. \n",
    "- Turbo pump was turned on at .520 (pirani guage)\n",
    "    - After a couple of seconds, it began to work. \n",
    "    - It quickly went down to about .290. It seemed to get stuck around here. \n",
    "    - After a longer period of time, it began to pump much faster. \n",
    "    - Once almost reaching -3.8v, the voltage meter appeared to begin to cap out, and slowed to a crawl.\n",
    "    - At -3.98, we turned off the turbo pump. \n",
    "- With the TMP off, the voltage meter displayed the pressure slowly raising again \n",
    "- Pirani guage displayed negative when maxed out.\n",
    "- After turning off the rough pump, the pressure went back to room pressure very quickly. This lead us to conclusion 1.\n",
    "\n",
    "#Notes/Observations for RUN TWO:\n",
    "- The turbo pump was turned on at .5 pirani guage \n",
    "- It was turned off -3.5 volts \n",
    "\n"
   ]
  },
  {
   "cell_type": "markdown",
   "metadata": {},
   "source": [
    "#Results:"
   ]
  },
  {
   "cell_type": "code",
   "execution_count": 57,
   "metadata": {},
   "outputs": [
    {
     "name": "stdout",
     "output_type": "stream",
     "text": [
      "     Time  Voltage   Pirani      Unnamed: 3\n",
      "0    11.0  -10.840  999.000             NaN\n",
      "1    12.0  -10.540  810.000             NaN\n",
      "2    14.0  -10.420  640.000             NaN\n",
      "3    16.0  -10.300  510.000             NaN\n",
      "4    19.0  -10.420  660.000             NaN\n",
      "5    20.0  -10.470  750.000             NaN\n",
      "6    22.0  -10.280  510.000             NaN\n",
      "7    23.0  -10.130  290.000             NaN\n",
      "8    24.0  -10.020  118.000             NaN\n",
      "9    24.5   -9.970   84.000             NaN\n",
      "10   25.0   -9.810   45.000             NaN\n",
      "11   27.0   -9.560   20.000             NaN\n",
      "12   30.0   -9.110   10.000             NaN\n",
      "13   32.0   -8.650    7.000             NaN\n",
      "14   34.0   -8.490    6.000             NaN\n",
      "15   35.0   -8.330    5.000             NaN\n",
      "16   41.0   -7.730    4.000             NaN\n",
      "17   48.0   -7.260    3.000             NaN\n",
      "18   57.0   -6.840    2.000             NaN\n",
      "19   72.0   -6.430    2.000             NaN\n",
      "20   74.0   -6.400    1.000             NaN\n",
      "21   88.0   -6.210    1.000             NaN\n",
      "22  101.0   -6.130    0.900             NaN\n",
      "23  110.0   -6.080    0.800             NaN\n",
      "24  120.0   -6.030    0.730             NaN\n",
      "25  130.0   -5.980    0.690             NaN\n",
      "26  150.0   -5.910    0.630             NaN\n",
      "27  180.0   -5.840    0.580             NaN\n",
      "28  240.0   -5.730    0.530             NaN\n",
      "29  270.0   -5.700    0.510   turned on TMP\n",
      "..    ...      ...      ...             ...\n",
      "44  380.0   -2.690    0.019             NaN\n",
      "45  390.0   -1.690    0.010             NaN\n",
      "46  395.0   -1.110    0.006             NaN\n",
      "47  400.0   -0.430    0.003             NaN\n",
      "48  403.0   -0.100    0.001             NaN\n",
      "49  404.0    0.180    0.000             NaN\n",
      "50  410.0    1.510    0.000             NaN\n",
      "51  420.0    2.790    0.000             NaN\n",
      "52  430.0    3.400    0.000             NaN\n",
      "53  436.0    3.490    0.000             NaN\n",
      "54  445.0    3.410    0.000             NaN\n",
      "55  465.0    2.810    0.000             NaN\n",
      "56  480.0    1.850    0.000             NaN\n",
      "57  490.0    0.780    0.000             NaN\n",
      "58  495.0    0.050    0.000             NaN\n",
      "59  500.0   -0.430    0.003             NaN\n",
      "60  520.0   -1.340    0.008             NaN\n",
      "61  545.0   -2.340    0.016             NaN\n",
      "62  590.0   -3.370    0.034             NaN\n",
      "63  615.0   -4.090    0.076             NaN\n",
      "64  645.0   -4.540    0.150             NaN\n",
      "65  695.0   -4.990    0.300             NaN\n",
      "66  745.0   -5.230    0.350             NaN\n",
      "67  747.0   -5.240    0.350  rough pump off\n",
      "68  748.0   -8.215    5.000             NaN\n",
      "69  750.0  -10.210  460.000             NaN\n",
      "70  755.0  -10.500  750.000             NaN\n",
      "71  762.0  -10.540  810.000             NaN\n",
      "72  780.0  -10.550  810.000             NaN\n",
      "73  825.0  -10.560  820.000             NaN\n",
      "\n",
      "[74 rows x 4 columns]\n"
     ]
    }
   ],
   "source": [
    "%matplotlib inline\n",
    "import pandas as pd\n",
    "import matplotlib.pyplot as plt\n",
    "from pandas import ExcelWriter\n",
    "from pandas import ExcelFile\n",
    "from matplotlib.pyplot import figure\n",
    "\n",
    "data = pd.read_excel(r'C:\\Users\\zhillger\\Desktop\\Fusor on Disc\\Tmp pumpdown test1.xlsx', sheet_name='Sheet1')\n",
    "print(data)"
   ]
  },
  {
   "cell_type": "code",
   "execution_count": 63,
   "metadata": {},
   "outputs": [
    {
     "data": {
      "image/png": "[encoded data removed]",
      "text/plain": [
       "<Figure size 720x720 with 1 Axes>"
      ]
     },
     "metadata": {
      "needs_background": "light"
     },
     "output_type": "display_data"
    }
   ],
   "source": [
    "v = pd.DataFrame(data, columns = ['Voltage'])\n",
    "p = pd.DataFrame(data, columns = ['Pirani'])\n",
    "t = pd.DataFrame(data, columns = ['Time'])\n",
    "\n",
    "print(\"Pirani and Voltage Against Time\")\n",
    "figure(figsize=(10,10))\n",
    "plt.xlabel(\"Time\")\n",
    "plt.ylabel(\"Pirani/Voltage\")\n",
    "plt.xlim(0,830)\n",
    "plt.ylim(-10,10)\n",
    "plt.plot(t,p)\n",
    "plt.plot(t,-1*v)\n",
    "plt.show()"
   ]
  },
  {
   "cell_type": "markdown",
   "metadata": {},
   "source": [
    "#Conclusions:\n",
    "There is a leak.\n",
    "The TMP and controller works. \n",
    "The relationship between Pirani guage readings and voltage meter readings is still unknown. "
   ]
  },
  {
   "cell_type": "markdown",
   "metadata": {},
   "source": [
    "#Notes for Next Experiment: "
   ]
  },
  {
   "cell_type": "code",
   "execution_count": null,
   "metadata": {},
   "outputs": [],
   "source": []
  }
 ],
 "metadata": {
  "kernelspec": {
   "display_name": "Python 3",
   "language": "python",
   "name": "python3"
  },
  "language_info": {
   "codemirror_mode": {
    "name": "ipython",
    "version": 3
   },
   "file_extension": ".py",
   "mimetype": "text/x-python",
   "name": "python",
   "nbconvert_exporter": "python",
   "pygments_lexer": "ipython3",
   "version": "3.7.3"
  }
 },
 "nbformat": 4,
 "nbformat_minor": 2
}
