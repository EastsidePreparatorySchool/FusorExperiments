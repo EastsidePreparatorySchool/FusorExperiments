{
 "cells": [
  {
   "cell_type": "markdown",
   "metadata": {},
   "source": [
    "#DEC4 Live Systems Test\n",
    "\n",
    "###Full pumpdown and full systems usage including needle valve controller, solenoid controller, TMP controller, diaphram gauge, and pirani gauge. We are checking if all control works and for leaks in vacuum piping. "
   ]
  },
  {
   "cell_type": "markdown",
   "metadata": {},
   "source": [
    "##Purpose:\n",
    "Test control equipment for solenoid, needle valve, and tmp. \n",
    "Test logging software. \n",
    "Check for leaks in vacuum. \n",
    "\n",
    "##Setup:\n",
    "\n",
    "1. Gather all parts - ignore step for working in enclosure: \n",
    "\t- Cart\n",
    "\t- Pirani gauge display \n",
    "\t- Pirani gauge display transformer\n",
    "\t- Multimeter for back of Pirani gauge voltage\n",
    "\t- TMP (turbo molecular pump) transformer\n",
    "\t- Rough pump\n",
    "\t- KF flange\n",
    "    - Control Arduinos\n",
    "    - Cameras \n",
    "2. Connect rough pump to turbo pump with KF flange\n",
    "3. Plug in the Pirani gauge display and transformer \n",
    "\t- Plug multimeter into the back of the Pirani gauge display (make sure to get positive and negative right)\n",
    "4. Plug in rough pump.\n",
    "5. **Ground the cart**. \n",
    "6. Plug in TMP transformer.\n",
    "7. Setup computer by plugging it into USB hub for arduino controllers\n",
    "8. Startup webserver and connect with other pc.\n",
    "9. Make sure that all arduino control is functional\n",
    "    - Gas (solenoid) \n",
    "    - Needle valve servo\n",
    "    - Geiger counter\n",
    "    - HV (not for this test, however) \n",
    "    - TMP \n",
    "    - Pirani gauge \n",
    "    - Diaphragm gauge  \n",
    "10. Wait for cameras to show up on webserver\n",
    "\n",
    "To begin Pumpdown: \n",
    "\n",
    "1. Arm red button.\n",
    "2. Start logging with computer. \n",
    "3. Start rough pump. \n",
    "4. Wait for pirani gauge to drop below .500\n",
    "5. Turn on TMP\n",
    "6. Run the test\n",
    "\n",
    "To turn off:\n",
    "\n",
    "1. Turn off TMP\n",
    "2. Wait for pirani gauge to go above .350, indicating the TMP has stopped spinning\n",
    "3. Stop rough pump\n",
    "4. Push red button\n",
    "\n",
    "##What we wIll do:\n",
    "Pump down, test controllers\n",
    "\n",
    "What we will read out:\n",
    "1. The Pirani gauge reading (shortened to PG) and the Pirani gauge voltage meter.\n",
    "2. Diaphram gauge (adc) \n",
    "3. Log from webserver. "
   ]
  },
  {
   "cell_type": "markdown",
   "metadata": {},
   "source": [
    "##Notes and Observations:\n",
    "\n",
    "Everything worked up until the TMP was turned on, where at this point the USB \n",
    "\n",
    "Things we tried: \n",
    "\n",
    "- bypassing the 5V splitter\n",
    "- unplugging geiger counter\n",
    "- unplugging inside chamber camera\n",
    "- reconnected TMP motherboard connection (TMP controller) \n",
    "\n",
    "\n",
    "After a series of failures where all arduino control was lost after switching on the TMP from the webserver, we turned off every usb except for the pirani gauge and the TMP to do a run. \n",
    "\n",
    "Results: \n",
    "\n",
    "- \"no dice\" "
   ]
  },
  {
   "cell_type": "markdown",
   "metadata": {},
   "source": [
    "##Conclusions: \n"
   ]
  }
 ],
 "metadata": {
  "kernelspec": {
   "display_name": "Python 3",
   "language": "python",
   "name": "python3"
  },
  "language_info": {
   "codemirror_mode": {
    "name": "ipython",
    "version": 3
   },
   "file_extension": ".py",
   "mimetype": "text/x-python",
   "name": "python",
   "nbconvert_exporter": "python",
   "pygments_lexer": "ipython3",
   "version": "3.7.3"
  }
 },
 "nbformat": 4,
 "nbformat_minor": 2
}
