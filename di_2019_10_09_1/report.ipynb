{
 "cells": [
  {
   "cell_type": "markdown",
   "metadata": {
    "colab_type": "text",
    "id": "DWQG7yu5lAAo"
   },
   "source": [
    "# Deuterium injection - experiment to address solenoid powerdraw on actuation\n",
    "\n",
    "GM, SL 10/9/2019"
   ]
  },
  {
   "cell_type": "markdown",
   "metadata": {
    "colab_type": "text",
    "id": "_Qx7jEq-lI8K"
   },
   "source": [
    "## Problem\n",
    "\n",
    "The solenoid draws something like 5 amps when switching to \"open\". It burned out our MOSFET transistor and freaks out at least one of our power supplies. We will need to address this is we are going to use it. "
   ]
  },
  {
   "cell_type": "markdown",
   "metadata": {
    "colab_type": "text",
    "id": "_Qx7jEq-lI8K"
   },
   "source": [
    "## Experiments\n",
    "\n",
    "We are going to perform two tests:\n",
    "\n",
    "1. Running the switch-on with the oscilloscope again to capture an image of what the initial power-draw looks like, and\n",
    "\n",
    "2. Adding a ballast capacitor of a certain capacity and rerunning the switch-on in hopes that things will be better. "
   ]
  },
  {
   "cell_type": "markdown",
   "metadata": {
    "colab_type": "text",
    "id": "_Qx7jEq-lI8K"
   },
   "source": [
    "## Expected data to be recorded\n",
    "\n",
    "In terms of raw data, there will be very little - two pictures of an oscilloscope screen, capturing the whole process from 0 volts to steady power-draw, but most importantly showing the initial surge peaks. We will then need to extract the peak current and total amount of charge moved in the switch-on phase, but that is data-analysis, not recording."
   ]
  },
  {
   "cell_type": "markdown",
   "metadata": {
    "colab_type": "text",
    "id": "_Qx7jEq-lI8K"
   },
   "source": [
    "## Experiment general setup\n",
    "\n",
    "Items needed:\n",
    "\n",
    "- Solenoid valve\n",
    "- Momentary switch\n",
    "- 12V power supply\n",
    "- Oscilloscope\n",
    "- 100nf capacitor (300 would be better, we think, but we don't have one)\n",
    "- 1-Ohm current-measurement resistor\n",
    "- Aligator wires\n",
    "\n",
    "## Experiment 1 setup\n",
    "\n",
    "Here is a drawing of the circuit without the ballast capacitor:"
   ]
  },
  {
   "cell_type": "markdown",
   "metadata": {
    "colab_type": "text",
    "id": "_Qx7jEq-lI8K"
   },
   "source": [
    "<img style=\"transform:rotate(0deg);width:800px\" src=\"wiring-1.jpg\" />"
   ]
  },
  {
   "cell_type": "markdown",
   "metadata": {
    "colab_type": "text",
    "id": "_Qx7jEq-lI8K"
   },
   "source": [
    "Power runs like this: From the power source, through the switch, to the solenoid, to the resistor, to the power source. The olliscope measures voltage across the resistor, which translates to 1V ~ 1A of current. Picture of physical setup:"
   ]
  },
  {
   "cell_type": "markdown",
   "metadata": {
    "colab_type": "text",
    "id": "_Qx7jEq-lI8K"
   },
   "source": [
    "![setup 1](exp-1-physical.jpg)"
   ]
  },
  {
   "cell_type": "markdown",
   "metadata": {
    "colab_type": "text",
    "id": "_Qx7jEq-lI8K"
   },
   "source": [
    "## Experiment 1 procedure\n",
    "\n",
    "We press the switch and hold. Try do to this swiftly and without jitter/hesitation. We are looking for the smallest (horizontally) surge peaks possible. Set the trigger on the oscilloscope to something like 1V, and select \"run once\". Here is a picture of the results of run 1:"
   ]
  },
  {
   "cell_type": "markdown",
   "metadata": {
    "colab_type": "text",
    "id": "_Qx7jEq-lI8K"
   },
   "source": [
    "## Experiment 1 result"
   ]
  },
  {
   "cell_type": "markdown",
   "metadata": {
    "colab_type": "text",
    "id": "_Qx7jEq-lI8K"
   },
   "source": [
    "![wiring 2](exp-1-result.jpg)"
   ]
  },
  {
   "cell_type": "markdown",
   "metadata": {
    "colab_type": "text",
    "id": "_Qx7jEq-lI8K"
   },
   "source": [
    "## Math for ballast capacitor\n",
    "\n",
    "We need to buffer a total charge $Q$ (in Coulomb) which we can compute from amps $I and time $t$ (loosely, the area under the curve of the surge on the oscilloscope).\n",
    "\n",
    "Total estimated charge: \n",
    "\n",
    "$$\n",
    "\\begin{align}\n",
    "Q &= I * t \\\\\n",
    "&= 2.5A * 1.2\\mu s \\\\\n",
    "&= 3\\mu C\n",
    "\\end{align}\n",
    "$$\n",
    "\n",
    "Capacitance needed:\n",
    "\n",
    "$$\n",
    "\\begin{align}\n",
    "C &= \\frac{Q}{V} \\\\\n",
    "&= \\frac{3\\mu C}{12V}\\\\\n",
    "&= 250nF\n",
    "\\end{align}\n",
    "$$\n",
    "\n",
    "We don't have a $250nF$ capacitor, but we did find a 100nF one. So we will insert this across the power source and try it next."
   ]
  },
  {
   "cell_type": "markdown",
   "metadata": {
    "colab_type": "text",
    "id": "_Qx7jEq-lI8K"
   },
   "source": [
    "## Experiment 2\n",
    "\n",
    "In experiment 2, we add a 100nF ballast-capacitor across the power source."
   ]
  },
  {
   "cell_type": "markdown",
   "metadata": {
    "colab_type": "text",
    "id": "_Qx7jEq-lI8K"
   },
   "source": [
    "## Experiment 2 wiring\n",
    "\n",
    "Here is how we add the capacitor:"
   ]
  },
  {
   "cell_type": "markdown",
   "metadata": {},
   "source": [
    "![cap wiring](cap-wiring.jpg)"
   ]
  },
  {
   "cell_type": "markdown",
   "metadata": {
    "colab_type": "text",
    "id": "_Qx7jEq-lI8K"
   },
   "source": [
    "## Experiment 2 setup\n",
    "Here is how the setup looks for experiment 2:"
   ]
  },
  {
   "cell_type": "markdown",
   "metadata": {
    "colab_type": "text",
    "id": "_Qx7jEq-lI8K"
   },
   "source": [
    "![setup 2](exp-2-physical.jpg)"
   ]
  },
  {
   "cell_type": "markdown",
   "metadata": {},
   "source": [
    "## Experiment 2 results"
   ]
  },
  {
   "cell_type": "markdown",
   "metadata": {
    "colab_type": "text",
    "id": "_Qx7jEq-lI8K"
   },
   "source": [
    "![oscilloscope 2](exp-2-result.jpg)"
   ]
  },
  {
   "cell_type": "markdown",
   "metadata": {
    "colab_type": "text",
    "id": "_Qx7jEq-lI8K"
   },
   "source": [
    "## Special notes\n",
    "\n",
    "Don't know yet."
   ]
  },
  {
   "attachments": {},
   "cell_type": "markdown",
   "metadata": {
    "colab_type": "text",
    "id": "_Qx7jEq-lI8K"
   },
   "source": [
    "## Analysis\n",
    "\n",
    "We can see that without the capacitor, peak power draw was around ()+/-(), total charge moved in surge = ()+/-(). With the capacitor, the numbers are () and () with similar margins of error.\n"
   ]
  },
  {
   "cell_type": "markdown",
   "metadata": {
    "colab_type": "text",
    "id": "_Qx7jEq-lI8K"
   },
   "source": [
    "## Conclusions\n",
    "\n",
    "The capacitor helped/did not help our situation."
   ]
  },
  {
   "cell_type": "markdown",
   "metadata": {
    "colab_type": "text",
    "id": "_Qx7jEq-lI8K"
   },
   "source": [
    "## Further work needed\n",
    "\n",
    "- If it helped, did it help enough to not freak out the power supplies?\n",
    "- If it didn't help, should we try a different size capacitor?\n",
    "- Do we need to switch to a relay, or could a MOSFET module handle the new draw? (I like the relay better, anyway)"
   ]
  }
 ],
 "metadata": {
  "colab": {
   "include_colab_link": true,
   "name": "di-2019-10-09-1.ipynb",
   "provenance": [],
   "toc_visible": true
  },
  "kernelspec": {
   "display_name": "Python 3",
   "language": "python",
   "name": "python3"
  },
  "language_info": {
   "codemirror_mode": {
    "name": "ipython",
    "version": 3
   },
   "file_extension": ".py",
   "mimetype": "text/x-python",
   "name": "python",
   "nbconvert_exporter": "python",
   "pygments_lexer": "ipython3",
   "version": "3.7.3"
  }
 },
 "nbformat": 4,
 "nbformat_minor": 1
}
